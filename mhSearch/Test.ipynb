{
 "cells": [
  {
   "cell_type": "markdown",
   "metadata": {},
   "source": [
    "# Test de Búsqueda de Hiperparámetros\n",
    "-----------------------------------------------------------"
   ]
  },
  {
   "cell_type": "markdown",
   "metadata": {},
   "source": [
    "## Importación de Dependencias"
   ]
  },
  {
   "cell_type": "code",
   "execution_count": 1,
   "metadata": {},
   "outputs": [],
   "source": [
    "import pandas as pd\n",
    "import sys\n",
    "sys.path.append(\"./data/\")\n",
    "sys.path.append(\"./lib/\")\n",
    "from lib.Methods import GeneralMethods\n",
    "from lib.edasSearch import EdasHyperparameterSearch\n",
    "from lib.Hiperparametros import HyperparameterSwitcher\n",
    "from lib.ImportacionModelos import getClassifierNames\n",
    "from lib.ImportacionModelos import getClassifierModels\n",
    "from lib.ImportacionModelos import getRegressorNames\n",
    "from lib.ImportacionModelos import getRegressorModels"
   ]
  },
  {
   "cell_type": "markdown",
   "metadata": {},
   "source": [
    "## Test Edas Search"
   ]
  },
  {
   "cell_type": "code",
   "execution_count": 2,
   "metadata": {},
   "outputs": [
    {
     "name": "stdout",
     "output_type": "stream",
     "text": [
      "indice\tAccuracy algorithm  leaf_size  n_neighbors  p   weights\n",
      "0\t0.819244   kd_tree         10           30  1  distance\n",
      "1\t0.812391   kd_tree         30            3  1  distance\n",
      "2\t0.822523  ball_tree         30            5  1  uniform\n"
     ]
    }
   ],
   "source": [
    "specificModelName = 'KNeighborsClassifier'\n",
    "estimadorDictionary = getClassifierModels(includeEnsambled=True)\n",
    "estimador = estimadorDictionary[specificModelName]\n",
    "hypSwitcher = HyperparameterSwitcher()\n",
    "parametros = hypSwitcher.getHyperparameters(specificModelName)()\n",
    "gm = GeneralMethods(estimador, urlDataset='./data/Tx_0x06')\n",
    "test = EdasHyperparameterSearch(\n",
    "    gm, parametros, estimador, iterations=2, sample_size=15, select_ratio=0.3, debug=False)\n",
    "test.run()\n",
    "dataframe = pd.DataFrame(list(test.resultados)).sort_values(\n",
    "    ['Accuracy'], ascending=False).reset_index(drop=True)\n",
    "dataframe.to_csv(\"./result/result_\" + specificModelName + \".csv\")"
   ]
  }
 ],
 "metadata": {
  "kernelspec": {
   "display_name": "Python 3",
   "language": "python",
   "name": "python3"
  },
  "language_info": {
   "codemirror_mode": {
    "name": "ipython",
    "version": 3
   },
   "file_extension": ".py",
   "mimetype": "text/x-python",
   "name": "python",
   "nbconvert_exporter": "python",
   "pygments_lexer": "ipython3",
   "version": "3.6.5"
  }
 },
 "nbformat": 4,
 "nbformat_minor": 2
}
