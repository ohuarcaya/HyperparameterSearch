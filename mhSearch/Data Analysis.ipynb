{
 "cells": [
  {
   "cell_type": "markdown",
   "metadata": {},
   "source": [
    "# Data Analysis"
   ]
  },
  {
   "cell_type": "code",
   "execution_count": 7,
   "metadata": {},
   "outputs": [],
   "source": [
    "import pandas as pd\n",
    "import ezodf\n",
    "\n",
    "def read_ods(filename, sheet_no=0, header=0):\n",
    "    tab = ezodf.opendoc(filename=filename).sheets[sheet_no]\n",
    "    return pd.DataFrame({col[header].value:[x.value for x in col[header+1:]]\n",
    "                         for col in tab.columns()})\n",
    "\n",
    "sfSens1=pd.read_csv(\"data/measure1_smartphone_sens.csv\")\n",
    "swSens1=pd.read_csv(\"data/measure1_smartwatch_sens.csv\")\n",
    "sfWifi1=pd.read_csv(\"data/measure1_smartphone_wifi.csv\")\n",
    "tstamp1=pd.read_csv(\"data/measure1_timestamp_id.csv\", header=None, names = ['in', 'out', 'id'])\n",
    "points=read_ods(filename=\"data/PointsMapping.ods\")\n",
    "points=points.drop([None], axis=1)[:325]"
   ]
  },
  {
   "cell_type": "code",
   "execution_count": 53,
   "metadata": {},
   "outputs": [
    {
     "data": {
      "text/html": [
       "<div>\n",
       "<style>\n",
       "    .dataframe thead tr:only-child th {\n",
       "        text-align: right;\n",
       "    }\n",
       "\n",
       "    .dataframe thead th {\n",
       "        text-align: left;\n",
       "    }\n",
       "\n",
       "    .dataframe tbody tr th {\n",
       "        vertical-align: top;\n",
       "    }\n",
       "</style>\n",
       "<table border=\"1\" class=\"dataframe\">\n",
       "  <thead>\n",
       "    <tr style=\"text-align: right;\">\n",
       "      <th></th>\n",
       "      <th>in</th>\n",
       "      <th>out</th>\n",
       "      <th>id</th>\n",
       "      <th>time</th>\n",
       "    </tr>\n",
       "  </thead>\n",
       "  <tbody>\n",
       "    <tr>\n",
       "      <th>count</th>\n",
       "      <td>3.240000e+02</td>\n",
       "      <td>3.240000e+02</td>\n",
       "      <td>324.000000</td>\n",
       "      <td>324.000000</td>\n",
       "    </tr>\n",
       "    <tr>\n",
       "      <th>mean</th>\n",
       "      <td>1.422881e+12</td>\n",
       "      <td>1.422881e+12</td>\n",
       "      <td>160.515432</td>\n",
       "      <td>3559.478395</td>\n",
       "    </tr>\n",
       "    <tr>\n",
       "      <th>std</th>\n",
       "      <td>1.717412e+08</td>\n",
       "      <td>1.717407e+08</td>\n",
       "      <td>93.267300</td>\n",
       "      <td>2963.885958</td>\n",
       "    </tr>\n",
       "    <tr>\n",
       "      <th>min</th>\n",
       "      <td>1.422629e+12</td>\n",
       "      <td>1.422629e+12</td>\n",
       "      <td>0.000000</td>\n",
       "      <td>2000.000000</td>\n",
       "    </tr>\n",
       "    <tr>\n",
       "      <th>25%</th>\n",
       "      <td>1.422632e+12</td>\n",
       "      <td>1.422632e+12</td>\n",
       "      <td>78.750000</td>\n",
       "      <td>2895.250000</td>\n",
       "    </tr>\n",
       "    <tr>\n",
       "      <th>50%</th>\n",
       "      <td>1.422884e+12</td>\n",
       "      <td>1.422884e+12</td>\n",
       "      <td>159.500000</td>\n",
       "      <td>3074.500000</td>\n",
       "    </tr>\n",
       "    <tr>\n",
       "      <th>75%</th>\n",
       "      <td>1.423044e+12</td>\n",
       "      <td>1.423044e+12</td>\n",
       "      <td>240.250000</td>\n",
       "      <td>3291.000000</td>\n",
       "    </tr>\n",
       "    <tr>\n",
       "      <th>max</th>\n",
       "      <td>1.423128e+12</td>\n",
       "      <td>1.423128e+12</td>\n",
       "      <td>324.000000</td>\n",
       "      <td>40536.000000</td>\n",
       "    </tr>\n",
       "  </tbody>\n",
       "</table>\n",
       "</div>"
      ],
      "text/plain": [
       "                 in           out          id          time\n",
       "count  3.240000e+02  3.240000e+02  324.000000    324.000000\n",
       "mean   1.422881e+12  1.422881e+12  160.515432   3559.478395\n",
       "std    1.717412e+08  1.717407e+08   93.267300   2963.885958\n",
       "min    1.422629e+12  1.422629e+12    0.000000   2000.000000\n",
       "25%    1.422632e+12  1.422632e+12   78.750000   2895.250000\n",
       "50%    1.422884e+12  1.422884e+12  159.500000   3074.500000\n",
       "75%    1.423044e+12  1.423044e+12  240.250000   3291.000000\n",
       "max    1.423128e+12  1.423128e+12  324.000000  40536.000000"
      ]
     },
     "execution_count": 53,
     "metadata": {},
     "output_type": "execute_result"
    }
   ],
   "source": [
    "#tstamp1['time']=tstamp1['out']-tstamp1['in']\n",
    "tstamp1.describe()"
   ]
  },
  {
   "cell_type": "code",
   "execution_count": 50,
   "metadata": {
    "scrolled": true
   },
   "outputs": [
    {
     "data": {
      "text/plain": [
       "66     4\n",
       "43     3\n",
       "112    2\n",
       "52     2\n",
       "119    1\n",
       "118    1\n",
       "117    1\n",
       "116    1\n",
       "115    1\n",
       "114    1\n",
       "105    1\n",
       "113    1\n",
       "120    1\n",
       "111    1\n",
       "110    1\n",
       "109    1\n",
       "121    1\n",
       "108    1\n",
       "107    1\n",
       "106    1\n",
       "324    1\n",
       "84     1\n",
       "93     1\n",
       "86     1\n",
       "87     1\n",
       "88     1\n",
       "89     1\n",
       "90     1\n",
       "91     1\n",
       "92     1\n",
       "      ..\n",
       "230    1\n",
       "232    1\n",
       "204    1\n",
       "233    1\n",
       "234    1\n",
       "235    1\n",
       "236    1\n",
       "237    1\n",
       "238    1\n",
       "239    1\n",
       "223    1\n",
       "222    1\n",
       "221    1\n",
       "220    1\n",
       "205    1\n",
       "206    1\n",
       "207    1\n",
       "208    1\n",
       "209    1\n",
       "210    1\n",
       "211    1\n",
       "212    1\n",
       "213    1\n",
       "214    1\n",
       "215    1\n",
       "216    1\n",
       "217    1\n",
       "218    1\n",
       "219    1\n",
       "0      1\n",
       "Name: id, Length: 317, dtype: int64"
      ]
     },
     "execution_count": 50,
     "metadata": {},
     "output_type": "execute_result"
    }
   ],
   "source": [
    "#import numpy as np\n",
    "tstamp1['id'].value_counts(sort=True, ascending=False)"
   ]
  },
  {
   "cell_type": "code",
   "execution_count": 48,
   "metadata": {},
   "outputs": [
    {
     "data": {
      "text/plain": [
       "52326.0"
      ]
     },
     "execution_count": 48,
     "metadata": {},
     "output_type": "execute_result"
    }
   ],
   "source": []
  }
 ],
 "metadata": {
  "kernelspec": {
   "display_name": "Python 3",
   "language": "python",
   "name": "python3"
  },
  "language_info": {
   "codemirror_mode": {
    "name": "ipython",
    "version": 3
   },
   "file_extension": ".py",
   "mimetype": "text/x-python",
   "name": "python",
   "nbconvert_exporter": "python",
   "pygments_lexer": "ipython3",
   "version": "3.6.3"
  }
 },
 "nbformat": 4,
 "nbformat_minor": 2
}
