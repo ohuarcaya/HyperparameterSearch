{
 "cells": [
  {
   "cell_type": "markdown",
   "metadata": {},
   "source": [
    "# Test de Búsqueda de Hiperparámetros\n",
    "-----------------------------------------------------------"
   ]
  },
  {
   "cell_type": "markdown",
   "metadata": {},
   "source": [
    "## Importación de Dependencias"
   ]
  },
  {
   "cell_type": "code",
   "execution_count": 1,
   "metadata": {
    "collapsed": true
   },
   "outputs": [],
   "source": [
    "import pandas as pd\n",
    "import sys\n",
    "sys.path.append(\"./data/\")\n",
    "sys.path.append(\"./lib/\")\n",
    "from lib.Methods import GeneralMethods\n",
    "from lib.edasSearch import EdasHyperparameterSearch\n",
    "from lib.Hiperparametros import HyperparameterSwitcher\n",
    "from lib.ImportacionModelos import getClassifierNames\n",
    "from lib.ImportacionModelos import getClassifierModels\n",
    "from lib.ImportacionModelos import getRegressorNames\n",
    "from lib.ImportacionModelos import getRegressorModels"
   ]
  },
  {
   "cell_type": "markdown",
   "metadata": {},
   "source": [
    "## Test Edas Search"
   ]
  },
  {
   "cell_type": "code",
   "execution_count": 2,
   "metadata": {},
   "outputs": [
    {
     "name": "stdout",
     "output_type": "stream",
     "text": [
      "indice\tAccuracy algorithm  leaf_size  n_neighbors  p   weights\n",
      "0\t0.819244   kd_tree         10           30  1  distance\n",
      "1\t0.812391   kd_tree         30            3  1  distance\n",
      "2\t0.822523  ball_tree         30            5  1  uniform\n"
     ]
    }
   ],
   "source": [
    "specificModelName = 'KNeighborsClassifier'\n",
    "estimadorDictionary = getClassifierModels(includeEnsambled=True)\n",
    "estimador = estimadorDictionary[specificModelName]\n",
    "hypSwitcher = HyperparameterSwitcher()\n",
    "parametros = hypSwitcher.getHyperparameters(specificModelName)()\n",
    "gm = GeneralMethods(estimador, urlDataset='./data/Tx_0x06')\n",
    "test = EdasHyperparameterSearch(\n",
    "    gm, parametros, estimador, iterations=2, sample_size=15, select_ratio=0.3, debug=False)\n",
    "test.run()\n",
    "dataframe = pd.DataFrame(list(test.resultados)).sort_values(\n",
    "    ['Accuracy'], ascending=False).reset_index(drop=True)\n",
    "dataframe.to_csv(\"./result/result_\" + specificModelName + \".csv\")"
   ]
  },
  {
   "cell_type": "markdown",
   "metadata": {},
   "source": [
    "## Test Eas Search"
   ]
  },
  {
   "cell_type": "code",
   "execution_count": 8,
   "metadata": {},
   "outputs": [
    {
     "name": "stdout",
     "output_type": "stream",
     "text": [
      "Tipos: [1, 1, 1, 1, 1], rangos: [11, 1, 2, 4, 3]\n"
     ]
    },
    {
     "name": "stderr",
     "output_type": "stream",
     "text": [
      "/home/ohuarcaya/anaconda3/lib/python3.6/site-packages/deap/creator.py:141: RuntimeWarning: A class named 'FitnessMax' has already been created and it will be overwritten. Consider deleting previous creation of that class or rename it.\n",
      "  RuntimeWarning)\n",
      "/home/ohuarcaya/anaconda3/lib/python3.6/site-packages/deap/creator.py:141: RuntimeWarning: A class named 'Individual' has already been created and it will be overwritten. Consider deleting previous creation of that class or rename it.\n",
      "  RuntimeWarning)\n"
     ]
    },
    {
     "name": "stdout",
     "output_type": "stream",
     "text": [
      "--- Evolve in 1440 possible combinations ---\n",
      "gen\tnevals\tavg      \tmin      \tmax      \tstd      \n",
      "0  \t20    \t0.0453788\t0.0161982\t0.0607432\t0.0131481\n",
      "1  \t14    \t0.0540138\t0.0402573\t0.0621725\t0.00448369\n",
      "2  \t13    \t0.0570033\t0.050262 \t0.0621725\t0.00278215\n",
      "3  \t14    \t0.059445 \t0.0526441\t0.0640781\t0.00277334\n",
      "4  \t16    \t0.0589447\t0.0195331\t0.0621725\t0.00917103\n",
      "5  \t15    \t0.0596236\t0.0164364\t0.0621725\t0.0099185 \n",
      "6  \t10    \t0.0616841\t0.0543116\t0.0621725\t0.00171523\n",
      "7  \t14    \t0.062101 \t0.0607432\t0.0621725\t0.000311498\n",
      "8  \t14    \t0.0612434\t0.044545 \t0.0621725\t0.00383649 \n",
      "9  \t10    \t0.0621725\t0.0621725\t0.0621725\t1.38778e-17\n",
      "10 \t11    \t0.061839 \t0.0555026\t0.0621725\t0.00145366 \n",
      "Best individual is: {'n_neighbors': 4, 'weights': 'distance', 'algorithm': 'ball_tree', 'p': 2, 'leaf_size': 10}\n",
      "with fitness: 0.06407813244402097\n"
     ]
    }
   ],
   "source": [
    "import pandas as pd\n",
    "from sklearn.model_selection import train_test_split\n",
    "from sklearn.model_selection import KFold\n",
    "from sklearn.ensemble import ExtraTreesClassifier\n",
    "from sklearn.neighbors import KNeighborsClassifier\n",
    "from sklearn.ensemble import GradientBoostingClassifier\n",
    "from lib.easSearch import GeneticSearchCV\n",
    "\n",
    "# Lectura de los datos y separación\n",
    "dataset = pd.read_csv(\"./data/Tx_0x06\")\n",
    "validation_size = 0.20\n",
    "X = dataset.values[:, 0:dataset.shape[1] - 1].astype(float)\n",
    "Y = dataset.values[:, dataset.shape[1] - 1]\n",
    "# Split randomizando los datos\n",
    "x_train, x_test, y_train, y_test = train_test_split(X, Y, test_size=validation_size, random_state=7)\n",
    "\n",
    "# Modelos para el Test\n",
    "models = { \n",
    "    'ExtraTreesClassifier': ExtraTreesClassifier(),\n",
    "    'GradientBoostingClassifier': GradientBoostingClassifier(),\n",
    "    'KNeighborsClassifier': KNeighborsClassifier()\n",
    "}\n",
    "\n",
    "# Parametros de los modelos para el Test\n",
    "params = { \n",
    "    'ExtraTreesClassifier': { \n",
    "        'n_estimators': [10, 12, 14, 16, 18, 20, 22, 24, 26, 28, 30],\n",
    "    },\n",
    "    'GradientBoostingClassifier': { \n",
    "        'n_estimators': [17, 22, 27, 32], \n",
    "        'learning_rate': [0.3, 0.5, 0.8, 1.0],\n",
    "    },\n",
    "    'KNeighborsClassifier': {\n",
    "        'n_neighbors': [3, 4, 5, 6, 7, 8, 10, 12, 15, 20, 30, 50],\n",
    "        'weights': ['uniform', 'distance'],\n",
    "        'algorithm': ['ball_tree', 'kd_tree', 'brute'],\n",
    "        'p': [1, 2, 3, 4, 5],\n",
    "        'leaf_size': [10, 30, 50, 70]\n",
    "    }\n",
    "}\n",
    "\n",
    "cv = KFold(n_splits=5)\n",
    "n_jobs = 4\n",
    "verbose = 1\n",
    "scoring = \"accuracy\"\n",
    "refit = False\n",
    "key = 'KNeighborsClassifier'\n",
    "model = models[key]\n",
    "params = params[key]\n",
    "gs2 = GeneticSearchCV(model, params, cv=cv, n_jobs=n_jobs, verbose=verbose, scoring=scoring, refit=refit)\n",
    "result = gs2.fit(X, Y)"
   ]
  }
 ],
 "metadata": {
  "kernelspec": {
   "display_name": "Python 3",
   "language": "python",
   "name": "python3"
  },
  "language_info": {
   "codemirror_mode": {
    "name": "ipython",
    "version": 3
   },
   "file_extension": ".py",
   "mimetype": "text/x-python",
   "name": "python",
   "nbconvert_exporter": "python",
   "pygments_lexer": "ipython3",
   "version": "3.7.1"
  },
  "toc": {
   "base_numbering": 1,
   "nav_menu": {},
   "number_sections": false,
   "sideBar": false,
   "skip_h1_title": false,
   "title_cell": "Table of Contents",
   "title_sidebar": "Contents",
   "toc_cell": false,
   "toc_position": {},
   "toc_section_display": false,
   "toc_window_display": false
  }
 },
 "nbformat": 4,
 "nbformat_minor": 2
}
