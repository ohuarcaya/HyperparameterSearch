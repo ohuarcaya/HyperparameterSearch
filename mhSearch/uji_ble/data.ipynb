{
 "cells": [
  {
   "cell_type": "code",
   "execution_count": 1,
   "metadata": {},
   "outputs": [],
   "source": [
    "import pandas as pd\n",
    "import pyspark\n",
    "import numpy as np"
   ]
  },
  {
   "cell_type": "code",
   "execution_count": 3,
   "metadata": {},
   "outputs": [
    {
     "name": "stdout",
     "output_type": "stream",
     "text": [
      "Copyright (c) 2018, Universitat Jaume I (UJI)\r",
      "\r\n",
      "These data is licensed under CC Attribution 4.0 International (CC BY).\r",
      "\r\n",
      "This documentation is licensed under CC0 license.\r",
      "\r\n",
      "\r",
      "\r\n",
      "The folders contained in this folder contains the data related to the BLE RSS fingerprint collection and related information described in TODO and available at Zenodo repository, DOI 10.5281/zenodo.1618692. The collection was performed in two zones, and the name of a file includes an indication of which zone its information refers to: the Library area 'lib' or the Geotec area 'geo'. The files are organized into three subfolders: 'dep' for BLE beacon deployment details, 'obs' for obstacles (shelves and pillars) found inside the collection area, and 'rss' for BLE RSS fingerprint collection data. For BLE RSS fingerprint files:\r",
      "\r\n",
      "\r",
      "\r\n",
      "* The collection for each zone is represented by four files: the RSS, the time, the coordinates, and the identifiers files, so that the ith row of each of them holds the respective information of the ith fingerprint collection in the zone. The file name points whether the files contains rss measurement values ('rss'), coordinates ('crd'), time information ('tms'), or fingerprint identification information ('ids').\r",
      "\r\n",
      "* Each column in the RSS file and the time file represents the intensity measurement values (dBm) and their collection time for a specific BLE beacon. The two zones have no common beacons. If the beacon was not detected for a fingerprint, its intensity value was set to 100 and its collection time to zero for that fingerprint.\r",
      "\r\n"
     ]
    }
   ],
   "source": [
    "!cat Readme.txt"
   ]
  },
  {
   "cell_type": "code",
   "execution_count": 63,
   "metadata": {},
   "outputs": [],
   "source": [
    "wifi_count = 22\n",
    "df_crd=pd.read_csv(\"rss/geo_crd.csv\", names=[\"x\", \"y\"]) #x,y\n",
    "df_rss=pd.read_csv(\"rss/geo_rss.csv\", names=list('rss_'+str(i) for i in range(wifi_count))) #rss measurements\n",
    "df_tms=pd.read_csv(\"rss/geo_tms.csv\", names=list('tms_'+str(i) for i in range(wifi_count))) #timestamp response\n",
    "df_ids=pd.read_csv(\"rss/geo_ids.csv\", names=[\"id\"]) #id\n",
    "df_dep_ = pd.concat([df_crd, df_rss, df_tms, df_ids], axis=1)#deployment"
   ]
  },
  {
   "cell_type": "code",
   "execution_count": null,
   "metadata": {
    "scrolled": true
   },
   "outputs": [],
   "source": [
    "# lib 1 para Library 0 para Geoteca\n",
    "obs_geo = pd.read_csv(\"obs/geo.csv\")\n",
    "obs_lib = pd.read_csv(\"obs/lib.csv\")\n",
    "dep_geo = pd.read_csv(\"dep/geo.csv\")\n",
    "dep_lib = pd.read_csv(\"dep/lib.csv\")\n",
    "obs_lib['lib'] = 1\n",
    "obs_geo['lib'] = 0\n",
    "dep_lib['lib'] = 1\n",
    "dep_geo['lib'] = 0\n",
    "df_dep = pd.concat([dep_lib, dep_geo], axis=0)#deployment\n",
    "df_obs = pd.concat([obs_lib, obs_geo], axis=0)#obstacles"
   ]
  },
  {
   "cell_type": "code",
   "execution_count": null,
   "metadata": {},
   "outputs": [],
   "source": []
  },
  {
   "cell_type": "code",
   "execution_count": null,
   "metadata": {},
   "outputs": [],
   "source": []
  },
  {
   "cell_type": "code",
   "execution_count": null,
   "metadata": {},
   "outputs": [],
   "source": []
  },
  {
   "cell_type": "code",
   "execution_count": null,
   "metadata": {},
   "outputs": [],
   "source": []
  }
 ],
 "metadata": {
  "kernelspec": {
   "display_name": "Python 3",
   "language": "python",
   "name": "python3"
  },
  "language_info": {
   "codemirror_mode": {
    "name": "ipython",
    "version": 3
   },
   "file_extension": ".py",
   "mimetype": "text/x-python",
   "name": "python",
   "nbconvert_exporter": "python",
   "pygments_lexer": "ipython3",
   "version": "3.7.1"
  },
  "toc": {
   "base_numbering": 1,
   "nav_menu": {},
   "number_sections": false,
   "sideBar": false,
   "skip_h1_title": false,
   "title_cell": "Table of Contents",
   "title_sidebar": "Contents",
   "toc_cell": false,
   "toc_position": {},
   "toc_section_display": false,
   "toc_window_display": false
  }
 },
 "nbformat": 4,
 "nbformat_minor": 2
}
