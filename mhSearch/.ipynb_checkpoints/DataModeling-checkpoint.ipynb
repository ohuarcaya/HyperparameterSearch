{
 "cells": [
  {
   "cell_type": "code",
   "execution_count": 3,
   "metadata": {},
   "outputs": [],
   "source": [
    "import sys\n",
    "sys.path.append(\"./lib/\")\n",
    "\n",
    "import numpy as np\n",
    "import pandas as pd\n",
    "import matplotlib.pyplot as plt\n",
    "import seaborn as sns\n",
    "\n",
    "from lib.Methods import GeneralMethods\n",
    "from lib.edasSearch import EdasHyperparameterSearch\n",
    "from lib.Hiperparametros import HyperparameterSwitcher\n",
    "from lib.ImportacionModelos import getClassifierNames\n",
    "from lib.ImportacionModelos import getClassifierModels\n",
    "from lib.ImportacionModelos import getRegressorNames\n",
    "from lib.ImportacionModelos import getRegressorModels\n",
    "from lib.graphicGenerator import GraphicBuilder\n",
    "from sklearn.model_selection import train_test_split"
   ]
  },
  {
   "cell_type": "markdown",
   "metadata": {},
   "source": [
    "__Distribución de data 80% data para entrenamiento y 20% para validación__"
   ]
  },
  {
   "cell_type": "code",
   "execution_count": 17,
   "metadata": {},
   "outputs": [],
   "source": [
    "seed = 9\n",
    "xSize = 1041\n",
    "df = pd.read_csv(\"data/filtred.csv\")\n",
    "X = df[df.columns[:xSize]]\n",
    "Y = df[df.columns[xSize:]]\n",
    "X_train, X_test, y_train, y_test = train_test_split(X, Y, test_size=0.2, random_state=seed)\n",
    "gbTrain = GraphicBuilder(pd.concat([X_train, y_train],axis=1))\n",
    "gbTest = GraphicBuilder(pd.concat([X_test, y_test],axis=1))"
   ]
  },
  {
   "cell_type": "markdown",
   "metadata": {},
   "source": [
    "## Algorithm Modeling"
   ]
  },
  {
   "cell_type": "markdown",
   "metadata": {},
   "source": [
    "__RandomizedSearch: Probando con un modelo de Clasificación, los demás se probarán en Servidor__"
   ]
  },
  {
   "cell_type": "code",
   "execution_count": null,
   "metadata": {},
   "outputs": [],
   "source": [
    "from sklearn.model_selection import RandomizedSearchCV\n",
    "from sklearn.model_selection import KFold\n",
    "kf = KFold(n_splits=10)\n",
    "\n",
    "estimadorDictionary = getClassifierModels(includeEnsambled=True)\n",
    "hypSwitcher = HyperparameterSwitcher()\n",
    "process = 'randomized'\n",
    "n_iteraciones = 2\n",
    "idModeloPrueba = 0\n",
    "\n",
    "result = {}\n",
    "modelName = getClassifierNames(includeEnsambled=True)[idModeloPrueba]\n",
    "    \n",
    "estimador = estimadorDictionary[modelName]\n",
    "parametros = hypSwitcher.getHyperparameters(modelName)()\n",
    "random_search = RandomizedSearchCV(estimador, param_distributions=parametros, \n",
    "                                   n_iter=n_iteraciones, cv=kf, scoring=\"accuracy\", \n",
    "                                   return_train_score=False, n_jobs=-1)\n",
    "random_search.fit(X_train, y_train.FLOOR)\n",
    "result[modelName] = random_search.cv_results_\n",
    "\n",
    "df1 = pd.DataFrame(np.array([result[modelName]['mean_test_score'], result[modelName]['std_test_score'],\n",
    "                             result[modelName]['mean_fit_time'], result[modelName]['std_fit_time'],\n",
    "                             result[modelName]['mean_score_time'], result[modelName]['std_score_time']\n",
    "                            ]).T, columns = ['Accuracy', 'stdAccuracy', 'FitTime', 'stdFitTime', 'ScoreTime', 'stdScoreTime'])\n",
    "df2 = pd.DataFrame(d_resl[modelName]['params'])\n",
    "dff = pd.concat([df1,df2], axis=1).sort_values(['Accuracy', 'FitTime'], ascending=[False, True])\n",
    "dff.to_csv(\"result/\" + process + \"/\" + modelName + \".csv\", index=False)"
   ]
  },
  {
   "cell_type": "code",
   "execution_count": null,
   "metadata": {},
   "outputs": [],
   "source": []
  },
  {
   "cell_type": "markdown",
   "metadata": {},
   "source": [
    "__ExhaustiveSearch: Probando con un modelo de Clasificación, los demás se probarán en Servidor__"
   ]
  },
  {
   "cell_type": "code",
   "execution_count": null,
   "metadata": {},
   "outputs": [],
   "source": [
    "process = 'exhaustive'\n",
    "n_iteraciones = 2\n",
    "\n",
    "result = {}\n",
    "modelName = getClassifierNames(includeEnsambled=True)[idModeloPrueba]\n",
    "    \n",
    "estimador = estimadorDictionary[modelName]\n",
    "parametros = hypSwitcher.getHyperparameters(modelName)()\n",
    "random_search = RandomizedSearchCV(estimador, param_distributions=parametros, \n",
    "                                   n_iter=n_iteraciones, cv=kf, scoring=\"accuracy\", \n",
    "                                   return_train_score=False, n_jobs=-1)\n",
    "random_search.fit(X_train, y_train.FLOOR)\n",
    "result[modelName] = random_search.cv_results_\n",
    "\n",
    "df1 = pd.DataFrame(np.array([result[modelName]['mean_test_score'], result[modelName]['std_test_score'],\n",
    "                             result[modelName]['mean_fit_time'], result[modelName]['std_fit_time'],\n",
    "                             result[modelName]['mean_score_time'], result[modelName]['std_score_time']\n",
    "                            ]).T, columns = ['Accuracy', 'stdAccuracy', 'FitTime', 'stdFitTime', 'ScoreTime', 'stdScoreTime'])\n",
    "df2 = pd.DataFrame(d_resl[modelName]['params'])\n",
    "dff = pd.concat([df1,df2], axis=1).sort_values(['Accuracy', 'FitTime'], ascending=[False, True])\n",
    "dff.to_csv(\"result/\" + process + \"/\" + modelName + \".csv\", index=False)"
   ]
  },
  {
   "cell_type": "markdown",
   "metadata": {},
   "source": []
  },
  {
   "cell_type": "code",
   "execution_count": null,
   "metadata": {},
   "outputs": [],
   "source": []
  },
  {
   "cell_type": "code",
   "execution_count": null,
   "metadata": {},
   "outputs": [],
   "source": [
    "gbTest.graphicMap3D(columns = [\"LATITUDE\", \"LONGITUDE\", \"FLOOR\"], filename=\"buildingsMap3dTest\")"
   ]
  },
  {
   "cell_type": "markdown",
   "metadata": {},
   "source": [
    "## Model Training"
   ]
  },
  {
   "cell_type": "code",
   "execution_count": null,
   "metadata": {},
   "outputs": [],
   "source": [
    "from sklearn.ensemble import RandomForestClassifier\n",
    "from sklearn.ensemble import RandomForestRegressor\n",
    "from sklearn.model_selection import cross_validate\n",
    "from sklearn.model_selection import KFold\n",
    "from sklearn.metrics import confusion_matrix\n",
    "from sklearn.metrics import make_scorer\n",
    "from sklearn import metrics as scoreMetrics\n",
    "import geopy.distance\n",
    "from functools import reduce\n",
    "#from sklearn.metrics import roc_auc_score # binary\n",
    "#from sklearn.metrics import auc # binary\n",
    "\n",
    "\n",
    "kf = KFold(n_splits=10)\n",
    "modelClassifier = RandomForestClassifier(n_jobs=-1, random_state=seed)\n",
    "modelRegressor = RandomForestRegressor(n_jobs=-1, random_state=seed)\n",
    "\n",
    "def accert(y_true, y_pred): \n",
    "    cm = confusion_matrix(y_true, y_pred)\n",
    "    return (cm.diagonal()/cm.sum(0)).mean()\n",
    "\n",
    "_meanLat = 39.9926853\n",
    "_meanLon = -0.0673033\n",
    "_minLongitude = -7705\n",
    "_maxLongitude = -7290\n",
    "_minLatitude = 4864735\n",
    "_maxLatitude = 4865023\n",
    "_maxLatitudeGPS = 39.993720\n",
    "_maxLongitudeGPS = -0.069254\n",
    "_minLatitudeGPS = 39.991626\n",
    "_minLongitudeGPS = -0.065425\n",
    "\n",
    "def longitudeToGPS(x):\n",
    "    return (_maxLongitudeGPS - _minLongitudeGPS) * (x - _minLongitude) / (_maxLongitude - _minLongitude) + _minLongitudeGPS\n",
    "\n",
    "def latitudeToGPS(x):\n",
    "    return (_maxLatitudeGPS - _minLatitudeGPS) * (x - _minLatitude) / (_maxLatitude - _minLatitude) + _minLatitudeGPS\n",
    "\n",
    "def latitudeListDistance(y_true, y_pred):\n",
    "    return list(map(lambda yt,yp : geopy.distance.vincenty((_meanLon, yt),(_meanLon, yp)).m , latitudeToGPS(y_true), latitudeToGPS(y_pred)))\n",
    "\n",
    "def longitudeListDistance(y_true, y_pred):\n",
    "    return list(map(lambda yt,yp : geopy.distance.vincenty((yt, _meanLat),(yp, _meanLat)).m , longitudeToGPS(y_true), longitudeToGPS(y_pred)))\n",
    "    \n",
    "def distance2d(y_true, y_pred):\n",
    "    ldis = []\n",
    "    if ((y_true>0).sum()>0):\n",
    "        #ldis = list(map(lambda yt,yp : geopy.distance.vincenty((_meanLon, yt),(_meanLon, yp)).m , latitudeToGPS(y_true), latitudeToGPS(y_pred)))\n",
    "        ldis = latitudeListDistance(y_true, y_pred)\n",
    "    else:\n",
    "        #ldis = list(map(lambda yt,yp : geopy.distance.vincenty((yt, _meanLat),(yp, _meanLat)).m , longitudeToGPS(y_true), longitudeToGPS(y_pred)))\n",
    "        ldis = longitudeListDistance(y_true, y_pred)\n",
    "    return reduce(lambda x,y: x+y, ldis) / len(ldis)\n",
    "\n",
    "def mse(y_true, y_pred):\n",
    "    return scoreMetrics.mean_squared_error(y_true, y_pred)\n",
    "    \n",
    "def mae(y_true, y_pred):\n",
    "    return scoreMetrics.mean_absolute_error(y_true, y_pred)\n",
    "    \n",
    "scoring_acc = {\n",
    "    #'average_precision' : 'average_precision_weighted',\n",
    "    #'precision': 'precision',\n",
    "    #'recall': 'recall',\n",
    "    #'balanced_accuracy': 'balanced_accuracy',\n",
    "    #'roc_auc': 'roc_auc',\n",
    "    'nbaccuracy' : make_scorer(accert),\n",
    "    'accuracy': 'accuracy'\n",
    "}\n",
    "\n",
    "scoring_reg = {\n",
    "    'mae': make_scorer(mae),# 'mean_absolute_error',\n",
    "    'mse': make_scorer(mse),#'mean_squared_error',\n",
    "    'distance': make_scorer(distance2d),\n",
    "    'r2': 'r2'\n",
    "}\n",
    "\n",
    "## TODO: Add and modify some metrics\n",
    "## http://scikit-learn.org/stable/modules/model_evaluation.html\n",
    "## https://www.icmla-conference.org/icmla10/CFP_Tutorial_files/jose.pdf"
   ]
  }
 ],
 "metadata": {
  "kernelspec": {
   "display_name": "Python 3",
   "language": "python",
   "name": "python3"
  },
  "language_info": {
   "codemirror_mode": {
    "name": "ipython",
    "version": 3
   },
   "file_extension": ".py",
   "mimetype": "text/x-python",
   "name": "python",
   "nbconvert_exporter": "python",
   "pygments_lexer": "ipython3",
   "version": "3.6.5"
  }
 },
 "nbformat": 4,
 "nbformat_minor": 2
}
