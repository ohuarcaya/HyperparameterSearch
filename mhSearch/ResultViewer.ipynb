{
 "cells": [
  {
   "cell_type": "code",
   "execution_count": 1,
   "metadata": {},
   "outputs": [],
   "source": [
    "import numpy as np\n",
    "import pandas as pd\n",
    "import matplotlib.pyplot as plt"
   ]
  },
  {
   "cell_type": "code",
   "execution_count": 4,
   "metadata": {},
   "outputs": [
    {
     "name": "stdout",
     "output_type": "stream",
     "text": [
      "AdaBoostRegressorLATITUDE.csv      ExtraTreesRegressorLONGITUDE.csv\n",
      "AdaBoostRegressorLONGITUDE.csv     KNeighborsRegressorLATITUDE.csv\n",
      "BaggingRegressorLATITUDE.csv       KNeighborsRegressorLONGITUDE.csv\n",
      "BaggingRegressorLONGITUDE.csv      RandomForestRegressorLATITUDE.csv\n",
      "ExtraTreesRegressorLATITUDE.csv    RandomForestRegressorLONGITUDE.csv\n"
     ]
    }
   ],
   "source": [
    "!ls result/eas/"
   ]
  },
  {
   "cell_type": "code",
   "execution_count": 7,
   "metadata": {},
   "outputs": [
    {
     "name": "stdout",
     "output_type": "stream",
     "text": [
      "AdaBoostRegressorLATITUDE.csv      ExtraTreesRegressorLONGITUDE.csv\n",
      "AdaBoostRegressorLONGITUDE.csv     KNeighborsRegressorLATITUDE.csv\n",
      "BaggingRegressorLATITUDE.csv       KNeighborsRegressorLONGITUDE.csv\n",
      "BaggingRegressorLONGITUDE.csv      RandomForestRegressorLATITUDE.csv\n",
      "ExtraTreesRegressorLATITUDE.csv    RandomForestRegressorLONGITUDE.csv\n"
     ]
    }
   ],
   "source": [
    "!ls result/exhaustive/"
   ]
  },
  {
   "cell_type": "code",
   "execution_count": 8,
   "metadata": {},
   "outputs": [
    {
     "name": "stdout",
     "output_type": "stream",
     "text": [
      "AdaBoostRegressorLATITUDE.csv      ExtraTreesRegressorLONGITUDE.csv\n",
      "AdaBoostRegressorLONGITUDE.csv     KNeighborsRegressorLATITUDE.csv\n",
      "BaggingRegressorLATITUDE.csv       KNeighborsRegressorLONGITUDE.csv\n",
      "BaggingRegressorLONGITUDE.csv      RandomForestRegressorLATITUDE.csv\n",
      "ExtraTreesRegressorLATITUDE.csv    RandomForestRegressorLONGITUDE.csv\n"
     ]
    }
   ],
   "source": [
    "!ls result/randomized/"
   ]
  },
  {
   "cell_type": "code",
   "execution_count": 3,
   "metadata": {},
   "outputs": [
    {
     "ename": "ModuleNotFoundError",
     "evalue": "No module named 'lib'",
     "traceback": [
      "\u001b[0;31m---------------------------------------------------------------------------\u001b[0m",
      "\u001b[0;31mModuleNotFoundError\u001b[0m                       Traceback (most recent call last)",
      "\u001b[0;32m<ipython-input-3-ab74fae37223>\u001b[0m in \u001b[0;36m<module>\u001b[0;34m\u001b[0m\n\u001b[1;32m      7\u001b[0m \u001b[0;32mimport\u001b[0m \u001b[0mseaborn\u001b[0m \u001b[0;32mas\u001b[0m \u001b[0msns\u001b[0m\u001b[0;34m\u001b[0m\u001b[0;34m\u001b[0m\u001b[0m\n\u001b[1;32m      8\u001b[0m \u001b[0;34m\u001b[0m\u001b[0m\n\u001b[0;32m----> 9\u001b[0;31m \u001b[0;32mfrom\u001b[0m \u001b[0mlib\u001b[0m\u001b[0;34m.\u001b[0m\u001b[0mMethods\u001b[0m \u001b[0;32mimport\u001b[0m \u001b[0mGeneralMethods\u001b[0m\u001b[0;34m\u001b[0m\u001b[0;34m\u001b[0m\u001b[0m\n\u001b[0m\u001b[1;32m     10\u001b[0m \u001b[0;32mfrom\u001b[0m \u001b[0mlib\u001b[0m\u001b[0;34m.\u001b[0m\u001b[0medasSearch\u001b[0m \u001b[0;32mimport\u001b[0m \u001b[0mEdasHyperparameterSearch\u001b[0m\u001b[0;34m\u001b[0m\u001b[0;34m\u001b[0m\u001b[0m\n\u001b[1;32m     11\u001b[0m \u001b[0;32mfrom\u001b[0m \u001b[0mlib\u001b[0m\u001b[0;34m.\u001b[0m\u001b[0mHiperparametros\u001b[0m \u001b[0;32mimport\u001b[0m \u001b[0mHyperparameterSwitcher\u001b[0m\u001b[0;34m\u001b[0m\u001b[0;34m\u001b[0m\u001b[0m\n",
      "\u001b[0;31mModuleNotFoundError\u001b[0m: No module named 'lib'"
     ],
     "output_type": "error"
    }
   ],
   "source": [
    "import sys\n",
    "sys.path.append(\"./lib/\")\n",
    "\n",
    "import numpy as np\n",
    "import pandas as pd\n",
    "import matplotlib.pyplot as plt\n",
    "import seaborn as sns\n",
    "\n",
    "from lib.Methods import GeneralMethods\n",
    "from lib.edasSearch import EdasHyperparameterSearch\n",
    "from lib.Hiperparametros import HyperparameterSwitcher\n",
    "from lib.ImportacionModelos import getClassifierNames\n",
    "from lib.ImportacionModelos import getClassifierModels\n",
    "from lib.ImportacionModelos import getRegressorNames\n",
    "from lib.ImportacionModelos import getRegressorModels\n",
    "from lib.graphicGenerator import GraphicBuilder\n"
   ]
  },
  {
   "cell_type": "code",
   "execution_count": null,
   "metadata": {},
   "outputs": [],
   "source": [
    ""
   ]
  }
 ],
 "metadata": {
  "kernelspec": {
   "display_name": "Python 3",
   "language": "python",
   "name": "python3"
  },
  "language_info": {
   "codemirror_mode": {
    "name": "ipython",
    "version": 3
   },
   "file_extension": ".py",
   "mimetype": "text/x-python",
   "name": "python",
   "nbconvert_exporter": "python",
   "pygments_lexer": "ipython3",
   "version": "3.7.2"
  }
 },
 "nbformat": 4,
 "nbformat_minor": 2
}
